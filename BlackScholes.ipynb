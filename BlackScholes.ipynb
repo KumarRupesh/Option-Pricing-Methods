{
 "cells": [
  {
   "cell_type": "code",
   "execution_count": 4,
   "metadata": {},
   "outputs": [],
   "source": [
    "from scipy.stats import norm\n",
    "import numpy as np"
   ]
  },
  {
   "cell_type": "code",
   "execution_count": 5,
   "metadata": {},
   "outputs": [],
   "source": [
    "# function to calculate d1 and d2"
   ]
  },
  {
   "cell_type": "code",
   "execution_count": 23,
   "metadata": {},
   "outputs": [
    {
     "name": "stdout",
     "output_type": "stream",
     "text": [
      "Call option price is 17.74619332558946\n"
     ]
    }
   ],
   "source": [
    "def dd1(S, X, t, r, sigma) :\n",
    "    return( (np.log(S/X) + ( r + 0.5*sigma**2)*t)/sigma*np.sqrt(t))\n",
    "\n",
    "def dd2(d1, r,t):\n",
    "    return(d1 - r* np.sqrt(t))\n",
    "           \n",
    "S = 100\n",
    "X = 90\n",
    "t = 3\n",
    "\n",
    "r = 0.03\n",
    "sigma = 0.04           \n",
    "d1 = dd1(S, X, t, r, sigma )\n",
    "\n",
    "\n",
    "d2 = dd2(d1, r,t)\n",
    "\n",
    "c = S * norm.cdf(d1) - X* np.exp(-r*t)* norm.cdf(d2)\n",
    "print(\"Call option price is \" + str(c))"
   ]
  },
  {
   "cell_type": "code",
   "execution_count": null,
   "metadata": {},
   "outputs": [],
   "source": []
  }
 ],
 "metadata": {
  "kernelspec": {
   "display_name": "Python 3",
   "language": "python",
   "name": "python3"
  },
  "language_info": {
   "codemirror_mode": {
    "name": "ipython",
    "version": 3
   },
   "file_extension": ".py",
   "mimetype": "text/x-python",
   "name": "python",
   "nbconvert_exporter": "python",
   "pygments_lexer": "ipython3",
   "version": "3.7.6"
  }
 },
 "nbformat": 4,
 "nbformat_minor": 4
}
